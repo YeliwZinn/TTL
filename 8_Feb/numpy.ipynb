{
 "cells": [
  {
   "cell_type": "markdown",
   "metadata": {},
   "source": [
    "**Numpy**"
   ]
  },
  {
   "cell_type": "code",
   "execution_count": 3,
   "metadata": {},
   "outputs": [
    {
     "name": "stdout",
     "output_type": "stream",
     "text": [
      "[1 2 3 4 5]\n",
      "[0. 0. 0. 0. 0.]\n",
      "[[1. 1. 1.]\n",
      " [1. 1. 1.]]\n",
      "[0 1 2 3 4 5 6 7 8]\n"
     ]
    }
   ],
   "source": [
    "import numpy as np\n",
    "a=np.array([1,2,3,4,5])\n",
    "# print(type(a))\n",
    "print(a)\n",
    "# x=[1,2,3,4,5]\n",
    "# print(type(x))\n",
    "# x=np.array(x)\n",
    "# print(type(x))\n",
    "zeros_array = np.zeros(5)\n",
    "ones_array = np.ones((2,3)) \n",
    "print(zeros_array)\n",
    "print(ones_array)\n",
    "a=np.arange(9)\n",
    "print(a)\n"
   ]
  },
  {
   "cell_type": "code",
   "execution_count": 23,
   "metadata": {},
   "outputs": [
    {
     "name": "stdout",
     "output_type": "stream",
     "text": [
      "[0 1 2 3 4 5 6 7 8]\n",
      "(3, 3)\n",
      "[[0 1 2]\n",
      " [3 4 5]\n",
      " [6 7 8]]\n"
     ]
    }
   ],
   "source": [
    "a=np.arange(9)\n",
    "print(a)\n",
    "a=a.reshape(-1,3)\n",
    "print(a.shape)\n",
    "print(a)"
   ]
  },
  {
   "cell_type": "code",
   "execution_count": 8,
   "metadata": {},
   "outputs": [
    {
     "name": "stdout",
     "output_type": "stream",
     "text": [
      "[ 5  7  9 11 13]\n",
      "[3 3 3 3 3]\n",
      "[ 4 10 18 28 40]\n",
      "[0.25       0.4        0.5        0.57142857 0.625     ]\n"
     ]
    }
   ],
   "source": [
    "l1=np.array([1,2,3,4,5])\n",
    "l2=np.array([4,5,6,7,8])\n",
    "s=l1+l2\n",
    "print(s)\n",
    "d=l2-l1\n",
    "print(d)\n",
    "m=l1*l2\n",
    "print(m)\n",
    "if not np.any(l2==0):\n",
    "    di=l1/l2\n",
    "else:\n",
    "    raise ValueError(\"Error\")\n",
    "print(di)"
   ]
  },
  {
   "cell_type": "code",
   "execution_count": 18,
   "metadata": {},
   "outputs": [
    {
     "name": "stdout",
     "output_type": "stream",
     "text": [
      "Matrix Multiplication: [[100]]\n",
      "(5, 1)\n",
      "(5, 1)\n",
      "[[1]\n",
      " [2]\n",
      " [3]\n",
      " [4]\n",
      " [5]]\n",
      "[[1]\n",
      " [2]\n",
      " [3]\n",
      " [4]\n",
      " [5]]\n"
     ]
    }
   ],
   "source": [
    "\n",
    "l1 = np.array([[1, 2, 3, 4, 5]]) \n",
    "l2 = np.array([[4], [5], [6], [7], [8]]) \n",
    "m = np.matmul(l1, l2)\n",
    "print(\"Matrix Multiplication:\", m)\n",
    "l3 = np.transpose(l1)\n",
    "l4 = l1.reshape(-1, 1)\n",
    "print(l3.shape)\n",
    "print( l4.shape)\n",
    "print(l3)\n",
    "print(l4)"
   ]
  },
  {
   "cell_type": "code",
   "execution_count": 20,
   "metadata": {},
   "outputs": [
    {
     "name": "stdout",
     "output_type": "stream",
     "text": [
      "[5]\n",
      "[1 3 5]\n",
      "[1 5]\n"
     ]
    }
   ],
   "source": [
    "l1=np.array([1, 2, 3, 4, 5])\n",
    "print(l1[4:5])\n",
    "print(l1[::2])\n",
    "print(l1[::4])\n"
   ]
  },
  {
   "cell_type": "code",
   "execution_count": 25,
   "metadata": {},
   "outputs": [
    {
     "name": "stdout",
     "output_type": "stream",
     "text": [
      "10\n",
      "1\n",
      "6.166666666666667\n",
      "6.5\n",
      "2.7938424357067015\n",
      "4\n"
     ]
    }
   ],
   "source": [
    "a=np.array([1,5,6,8,10,7])\n",
    "print(np.amax(a))\n",
    "print(np.amin(a))\n",
    "print(np.mean(a))\n",
    "print(np.median(a))\n",
    "print(np.std(a))\n",
    "print(np.argmax(a))"
   ]
  }
 ],
 "metadata": {
  "kernelspec": {
   "display_name": "Python 3",
   "language": "python",
   "name": "python3"
  },
  "language_info": {
   "codemirror_mode": {
    "name": "ipython",
    "version": 3
   },
   "file_extension": ".py",
   "mimetype": "text/x-python",
   "name": "python",
   "nbconvert_exporter": "python",
   "pygments_lexer": "ipython3",
   "version": "3.11.4"
  }
 },
 "nbformat": 4,
 "nbformat_minor": 2
}
