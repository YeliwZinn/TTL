{
 "cells": [
  {
   "cell_type": "code",
   "execution_count": 2,
   "metadata": {},
   "outputs": [
    {
     "name": "stdout",
     "output_type": "stream",
     "text": [
      "[1 2 3 4 5]\n",
      "[[1 2 3]\n",
      " [4 5 6]\n",
      " [7 8 9]]\n",
      "[[[[[1 2 3 4]]]]]\n"
     ]
    }
   ],
   "source": [
    "import numpy as np\n",
    "\n",
    "a = np.array([1, 2, 3, 4, 5])\n",
    "m = np.array([[1, 2, 3], [4, 5, 6], [7, 8, 9]])\n",
    "print(a)\n",
    "print(m)\n",
    "m = np.array([1, 2, 3, 4], ndmin=5)\n",
    "print(m)"
   ]
  },
  {
   "cell_type": "code",
   "execution_count": 3,
   "metadata": {},
   "outputs": [
    {
     "name": "stdout",
     "output_type": "stream",
     "text": [
      "[[ 30  24  18]\n",
      " [ 84  69  54]\n",
      " [138 114  90]]\n",
      "[[10 10 10]\n",
      " [10 10 10]\n",
      " [10 10 10]]\n",
      "[[ 8  6  4]\n",
      " [ 2  0 -2]\n",
      " [-4 -6 -8]]\n",
      "[[0.11111111 0.25       0.42857143]\n",
      " [0.66666667 1.         1.5       ]\n",
      " [2.33333333 4.         9.        ]]\n",
      "[[1 2 3 4 5 6 7 8 9]]\n",
      "[[9]\n",
      " [8]\n",
      " [7]\n",
      " [6]\n",
      " [5]\n",
      " [4]\n",
      " [3]\n",
      " [2]\n",
      " [1]]\n",
      "[[1 4 7]\n",
      " [2 5 8]\n",
      " [3 6 9]]\n",
      "[[9 6 3]\n",
      " [8 5 2]\n",
      " [7 4 1]]\n"
     ]
    }
   ],
   "source": [
    "m = np.array([[1, 2, 3], [4, 5, 6], [7, 8, 9]])\n",
    "n = np.array([[9,8,7], [6,5,4], [3,2,1]])\n",
    "x=np.matmul(m,n)\n",
    "print(x)\n",
    "s=m+n\n",
    "print(s)\n",
    "d=n-m\n",
    "print(d)\n",
    "if not np.any(n==0):\n",
    "    di=m/n\n",
    "else:\n",
    "    raise ValueError(\"Error\")\n",
    "print(di)\n",
    "\n",
    "g=m.reshape(1,9)\n",
    "print(g)\n",
    "h=n.reshape(9,1)\n",
    "print(h)\n",
    "j=np.transpose(m)\n",
    "print(j)\n",
    "k=np.transpose(n)\n",
    "print(k)"
   ]
  },
  {
   "cell_type": "code",
   "execution_count": 26,
   "metadata": {},
   "outputs": [
    {
     "name": "stdout",
     "output_type": "stream",
     "text": [
      "Students with 5 marks: [ 2005058  2005150  2005179  2005278  2005324  2005407  2005473  2005574\n",
      "  2005585  2005601  2005704  2005721  2005929 20051001 20051182 20051254\n",
      " 20051329 20051433 20051805 20051915 21053047]\n",
      "Roll numbers in interval of 2: [ 2005011  2005076  2005150  2005168  2005179  2005270  2005288  2005312\n",
      "  2005326  2005343  2005439  2005473  2005548  2005574  2005585  2005597\n",
      "  2005601  2005608  2005631  2005704  2005721  2005904  2005929  2005979\n",
      " 20051023 20051049 20051122 20051164 20051174 20051254 20051351 20051362\n",
      " 20051397 20051433 20051473 20051552 20051614 20051805 20051866 20051872\n",
      " 20051903 20051962 21053002 21053022 21053047 21053067]\n",
      "Roll numbers in interval of 4: [ 2005011  2005150  2005179  2005288  2005326  2005439  2005548  2005585\n",
      "  2005601  2005631  2005721  2005929 20051023 20051122 20051174 20051351\n",
      " 20051397 20051473 20051614 20051866 20051903 21053002 21053047]\n",
      "Roll numbers in interval of 6: [ 2005011  2005168  2005288  2005343  2005548  2005597  2005631  2005904\n",
      " 20051023 20051164 20051351 20051433 20051614 20051872 21053002 21053067]\n",
      "Roll numbers in interval of 10: [ 2005011  2005270  2005439  2005597  2005721 20051049 20051351 20051552\n",
      " 20051903 21053067]\n",
      "Student with maximum score: Roll Number - 2005645\n"
     ]
    }
   ],
   "source": [
    "#Q4\n",
    "'''\n",
    "Read the dataset given in data.txt and perform following experiments\n",
    "a. Find the serial number of the students who have got 5 marks\n",
    "b. Take the roll number of the students and print the roll number in the following\n",
    "interval using numPy arrays.\n",
    "i. 2\n",
    "ii. 4\n",
    "iii. 6\n",
    "iv. 10\n",
    "c. Print the serial number and roll number of the student who have got maximum\n",
    "number\n",
    "'''\n",
    "with open('data.txt', 'r') as file:\n",
    "    lines = file.readlines()[1:]\n",
    "\n",
    "\n",
    "roll_numbers = []\n",
    "scores = []\n",
    "\n",
    "\n",
    "for line in lines:\n",
    "    data = line.split('\\t')  \n",
    "    roll_numbers.append(int(data[0]))\n",
    "    scores.append(int(data[1]))\n",
    "\n",
    "\n",
    "roll_numbers = np.array(roll_numbers)\n",
    "scores = np.array(scores)\n",
    "\n",
    "\n",
    "students_with_5_marks = roll_numbers[scores == 5]\n",
    "print(f'Students with 5 marks: {students_with_5_marks}')\n",
    "\n",
    "\n",
    "intervals = [2, 4, 6, 10]\n",
    "for interval in intervals:\n",
    "    print(f'Roll numbers in interval of {interval}: {roll_numbers[::interval]}')\n",
    "\n",
    "\n",
    "max_score_index = np.argmax(scores)\n",
    "print(f'Student with maximum score: Roll Number - {roll_numbers[max_score_index]}')\n",
    "#Q5\n",
    "mean_score = np.mean(scores)\n",
    "print(f\"Mean score: {mean_score}\")\n",
    "\n",
    "\n",
    "median_score = np.median(scores)\n",
    "print(f\"Median score: {median_score}\")\n",
    "\n",
    "\n",
    "mode_score = np.std(scores)\n",
    "print(f\"Mode score: {mode_score}\")"
   ]
  },
  {
   "cell_type": "code",
   "execution_count": 25,
   "metadata": {},
   "outputs": [
    {
     "name": "stdout",
     "output_type": "stream",
     "text": [
      "Mean score: 4.032967032967033\n",
      "Median score: 4.0\n",
      "Mode score: 0.8701465008716112\n"
     ]
    }
   ],
   "source": [
    "mean_score = np.mean(scores)\n",
    "print(f\"Mean score: {mean_score}\")\n",
    "\n",
    "\n",
    "median_score = np.median(scores)\n",
    "print(f\"Median score: {median_score}\")\n",
    "\n",
    "\n",
    "mode_score = np.std(scores)\n",
    "print(f\"Mode score: {mode_score}\")"
   ]
  }
 ],
 "metadata": {
  "kernelspec": {
   "display_name": "Python 3",
   "language": "python",
   "name": "python3"
  },
  "language_info": {
   "codemirror_mode": {
    "name": "ipython",
    "version": 3
   },
   "file_extension": ".py",
   "mimetype": "text/x-python",
   "name": "python",
   "nbconvert_exporter": "python",
   "pygments_lexer": "ipython3",
   "version": "3.11.4"
  }
 },
 "nbformat": 4,
 "nbformat_minor": 2
}
