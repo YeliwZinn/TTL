{
 "cells": [
  {
   "cell_type": "code",
   "execution_count": 1,
   "metadata": {},
   "outputs": [
    {
     "data": {
      "text/plain": [
       "'ShubhamShankar'"
      ]
     },
     "execution_count": 1,
     "metadata": {},
     "output_type": "execute_result"
    }
   ],
   "source": [
    "class a:\n",
    "    def __init__(self,fl,lm):\n",
    "        self.fl=fl\n",
    "        self.lm=lm\n",
    "        \n",
    "    def c(self):\n",
    "        return (self.fl+self.lm)\n",
    "    \n",
    "f=a(\"Shubham\",\"Shankar\")\n",
    "f.c()\n",
    "    \n",
    "      "
   ]
  },
  {
   "cell_type": "code",
   "execution_count": 18,
   "metadata": {},
   "outputs": [
    {
     "name": "stdout",
     "output_type": "stream",
     "text": [
      "ShubhamShankar20\n"
     ]
    }
   ],
   "source": [
    "class a:\n",
    "    def __init__(self, fl, lm):\n",
    "        self.fl = fl\n",
    "        self.lm = lm\n",
    "\n",
    "    def c(self):\n",
    "        return self.fl + self.lm\n",
    "\n",
    "class b(a):\n",
    "    def __init__(self, fl, lm, age):\n",
    "        super().__init__(fl, lm)\n",
    "        self.age = age\n",
    "\n",
    "    def d(self):\n",
    "        return super().c() + str(self.age)\n",
    "\n",
    "f = b(\"Shubham\", \"Shankar\", 20)\n",
    "print(f.d())\n"
   ]
  }
 ],
 "metadata": {
  "kernelspec": {
   "display_name": "Python 3",
   "language": "python",
   "name": "python3"
  },
  "language_info": {
   "codemirror_mode": {
    "name": "ipython",
    "version": 3
   },
   "file_extension": ".py",
   "mimetype": "text/x-python",
   "name": "python",
   "nbconvert_exporter": "python",
   "pygments_lexer": "ipython3",
   "version": "3.11.4"
  }
 },
 "nbformat": 4,
 "nbformat_minor": 2
}
