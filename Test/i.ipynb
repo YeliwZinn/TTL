{
 "cells": [
  {
   "cell_type": "code",
   "execution_count": null,
   "metadata": {},
   "outputs": [],
   "source": [
    "with open(\"file name\",'r') as file:\n",
    "    lines=file.readlines()[1:]\n",
    "\n",
    "for line in lines:\n",
    "    data=line.split()\n"
   ]
  },
  {
   "cell_type": "code",
   "execution_count": 1,
   "metadata": {},
   "outputs": [],
   "source": [
    "def read_scores_from_file(filename):\n",
    "    scores = {}\n",
    "    with open(filename, 'r') as file:\n",
    "        for line in file:\n",
    "            parts = line.strip().split()\n",
    "            if len(parts) >= 2:\n",
    "                key = parts[0]\n",
    "                value = ' '.join(parts[1:])\n",
    "                scores[key] = value\n",
    "    return scores\n",
    "\n",
    "def update_final_scores(final_scores, scores):\n",
    "    for key, value in scores.items():\n",
    "        if key in final_scores:\n",
    "            final_scores[key] += ', ' + value\n",
    "        else:\n",
    "            final_scores[key] = value\n",
    "\n",
    "def write_final_scores_to_file(final_scores, filename):\n",
    "    with open(filename, 'w') as file:\n",
    "        for key, value in final_scores.items():\n",
    "            file.write(f\"{key} {value}\\n\")\n",
    "\n",
    "def main():\n",
    "    final_scores = read_scores_from_file('RollNo_Name_Assignment.txt')\n",
    "\n",
    "    other_files = ['RollNo_Score_Quiz_1.txt', 'RollNo_Score_Quiz_2.txt', 'Name_Viva.txt']\n",
    "\n",
    "    for file in other_files:\n",
    "        scores = read_scores_from_file(file)\n",
    "        update_final_scores(final_scores, scores)\n",
    "\n",
    "    write_final_scores_to_file(final_scores, 'Final_Score_Sheet.txt')\n",
    "\n",
    "if __name__ == \"__main__\":\n",
    "    main()\n"
   ]
  },
  {
   "cell_type": "code",
   "execution_count": 4,
   "metadata": {},
   "outputs": [],
   "source": [
    "def abc(f):\n",
    "    marks={}\n",
    "    with open(f,'r')as file:\n",
    "        ##line=file.readlines()[1:]\n",
    "        for fly in file:\n",
    "            data=fly.strip().split() \n",
    "            if len(data)>=2:\n",
    "                name=data[0]\n",
    "                score=''.join(data[1:])\n",
    "                marks[name]=score\n",
    "        return marks\n",
    "    \n",
    "def bcd(finalmarks,marks):\n",
    "    for name,score in marks.items():\n",
    "        if name in finalmarks:\n",
    "            finalmarks[name]+=','+ score\n",
    "        else:\n",
    "            finalmarks[name]=score\n",
    "            \n",
    "def dfe(finalmarks,f):\n",
    "    with open(f,'w')as file:\n",
    "        for name,score in finalmarks.items():\n",
    "            file.write(f\"{name} {score}\\n\")\n",
    "\n",
    "def main():\n",
    "    finalmarks=abc('RollNo_Name_Assignment.txt')\n",
    "    other=['RollNo_Score_Quiz_1.txt', 'RollNo_Score_Quiz_2.txt', 'Name_Viva.txt']\n",
    "    for i in other:\n",
    "        score=abc(i)\n",
    "        bcd(finalmarks,score)\n",
    "    dfe(finalmarks,'Final.csv')\n",
    "\n",
    "if __name__=='__main__':\n",
    "    main()\n",
    "\n",
    "\n",
    "    "
   ]
  }
 ],
 "metadata": {
  "kernelspec": {
   "display_name": "Python 3",
   "language": "python",
   "name": "python3"
  },
  "language_info": {
   "codemirror_mode": {
    "name": "ipython",
    "version": 3
   },
   "file_extension": ".py",
   "mimetype": "text/x-python",
   "name": "python",
   "nbconvert_exporter": "python",
   "pygments_lexer": "ipython3",
   "version": "3.11.4"
  }
 },
 "nbformat": 4,
 "nbformat_minor": 2
}
