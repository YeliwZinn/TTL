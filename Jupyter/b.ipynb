{
 "cells": [
  {
   "cell_type": "code",
   "execution_count": 5,
   "metadata": {},
   "outputs": [
    {
     "name": "stdout",
     "output_type": "stream",
     "text": [
      "4\n"
     ]
    }
   ],
   "source": [
    "# Write a program in Python to count the digits of a given number.\n",
    "\n",
    "c=0\n",
    "def cnt(n):\n",
    "    global c\n",
    "    if n==0:\n",
    "        return \n",
    "    c+=1\n",
    "    return cnt(n//10)\n",
    "\n",
    "n=int(input(\"Enter a no. :- \"))\n",
    "cnt(n)\n",
    "print(c)"
   ]
  },
  {
   "cell_type": "code",
   "execution_count": 8,
   "metadata": {},
   "outputs": [
    {
     "name": "stdout",
     "output_type": "stream",
     "text": [
      "6\n"
     ]
    }
   ],
   "source": [
    "# Write a program in Python to find the sum of digits of a number.\n",
    "def sun(n):\n",
    "    if n==0:\n",
    "        return 0\n",
    "    else:\n",
    "        return n %10 + sun(n // 10)\n",
    "    \n",
    "n=int(input(\"Enter a no. :- \"))\n",
    "r=sun(n)\n",
    "print(r)"
   ]
  },
  {
   "cell_type": "code",
   "execution_count": 9,
   "metadata": {},
   "outputs": [
    {
     "name": "stdout",
     "output_type": "stream",
     "text": [
      "GCD: 4\n",
      "LCM: 12\n"
     ]
    }
   ],
   "source": [
    "def gcd(a,b):\n",
    "    if (b==0):\n",
    "        return a\n",
    "    else:\n",
    "        return gcd(b,a%b)\n",
    "    \n",
    "a=int(input(\"Enter a no. :- \"))\n",
    "b=int(input(\"Enter a no. :- \"))\n",
    "\n",
    "d=gcd(a,b)\n",
    "print(\"GCD:\",d)\n",
    "lcm=(a*b)//d\n",
    "print(\"LCM:\",lcm)"
   ]
  },
  {
   "cell_type": "code",
   "execution_count": 10,
   "metadata": {},
   "outputs": [
    {
     "name": "stdout",
     "output_type": "stream",
     "text": [
      "3\n"
     ]
    }
   ],
   "source": [
    "def find_largest_recursive(lst, index, current_max):\n",
    "   \n",
    "    if index == len(lst):\n",
    "        return current_max\n",
    "    \n",
    "    \n",
    "    if current_max is None or lst[index] > current_max:\n",
    "        current_max = lst[index]\n",
    "    \n",
    "\n",
    "    return find_largest_recursive(lst, index + 1, current_max)\n",
    "\n",
    "l=[]\n",
    "n=int(input(\"ENter the size: \"))\n",
    "for i in range(1,n+1):\n",
    "    el=int(input(\"Enter the no. : \"))\n",
    "    l.append(el)\n",
    "    \n",
    "a=find_largest_recursive(l)\n",
    "print(a)"
   ]
  },
  {
   "cell_type": "code",
   "execution_count": 3,
   "metadata": {},
   "outputs": [
    {
     "name": "stdout",
     "output_type": "stream",
     "text": [
      "mAA"
     ]
    }
   ],
   "source": [
    "#Write a program in Python to reverse a string.\n",
    "\n",
    "def rev(n,index,z):\n",
    "    if index==z:\n",
    "        return\n",
    "    temp=n[index]\n",
    "    rev(n,index+1,z)\n",
    "    print(temp,end='')\n",
    "        \n",
    "\n",
    "n=input(\"Enter a string: \")\n",
    "z=len(n)\n",
    "rev(n,0,z)"
   ]
  },
  {
   "cell_type": "code",
   "execution_count": 4,
   "metadata": {},
   "outputs": [
    {
     "name": "stdout",
     "output_type": "stream",
     "text": [
      "10"
     ]
    }
   ],
   "source": [
    "#Write a program in Python to convert a decimal number to binary.\n",
    "\n",
    "def dec(n):\n",
    "    if n>1:\n",
    "        dec(n//2)\n",
    "    print(n%2,end=\"\")\n",
    "    \n",
    "n=int(input(\"ENyer a no. : \"))\n",
    "dec(n)"
   ]
  },
  {
   "cell_type": "code",
   "execution_count": 5,
   "metadata": {},
   "outputs": [
    {
     "name": "stdout",
     "output_type": "stream",
     "text": [
      "5\n"
     ]
    }
   ],
   "source": [
    "def binaryTodecimal(n, exp = 1):\n",
    "    if n == 0:\n",
    "        return 0\n",
    "    rem = n%10\n",
    "    rem = rem*exp\n",
    "    return rem + binaryTodecimal(n//10,exp*2)\n",
    "\n",
    "print( binaryTodecimal(101) ) \n",
    "\n"
   ]
  }
 ],
 "metadata": {
  "kernelspec": {
   "display_name": "Python 3",
   "language": "python",
   "name": "python3"
  },
  "language_info": {
   "codemirror_mode": {
    "name": "ipython",
    "version": 3
   },
   "file_extension": ".py",
   "mimetype": "text/x-python",
   "name": "python",
   "nbconvert_exporter": "python",
   "pygments_lexer": "ipython3",
   "version": "3.10.9"
  }
 },
 "nbformat": 4,
 "nbformat_minor": 2
}
