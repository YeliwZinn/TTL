{
 "cells": [
  {
   "cell_type": "code",
   "execution_count": 3,
   "metadata": {},
   "outputs": [
    {
     "name": "stdout",
     "output_type": "stream",
     "text": [
      "   Roll  Score\n",
      "0    11    4.0\n",
      "1    58    5.0\n",
      "2    76    3.0\n",
      "3   119    4.0\n",
      "4   150    NaN\n",
      "5   161    3.0\n",
      "6   168    4.0\n",
      "7   178    4.0\n",
      "   Roll  Score\n",
      "0    11    4.0\n",
      "1    58    5.0\n",
      "2    76    3.0\n",
      "3   119    4.0\n",
      "4   150    NaN\n",
      "5   161    3.0\n",
      "6   168    4.0\n",
      "7   178    4.0\n"
     ]
    }
   ],
   "source": [
    "import pandas as pd\n",
    "import numpy as np\n",
    "\n",
    "p = [(11,4),(58,5),(76,3),(119,4),(150,),(161,3),(168,4),(178,4)]\n",
    "df = pd.DataFrame(p, columns=[\"Roll\", \"Score\"])\n",
    "print(df)\n",
    "\n",
    "\n",
    "print(df)"
   ]
  },
  {
   "cell_type": "code",
   "execution_count": 4,
   "metadata": {},
   "outputs": [],
   "source": [
    "df.to_csv(\"pandas.csv\", index=False)"
   ]
  },
  {
   "cell_type": "code",
   "execution_count": 5,
   "metadata": {},
   "outputs": [
    {
     "name": "stdout",
     "output_type": "stream",
     "text": [
      "   Roll  Score\n",
      "0    11    4.0\n",
      "1    58    5.0\n",
      "2    76    3.0\n",
      "3   119    4.0\n",
      "4   150    NaN\n",
      "5   161    3.0\n",
      "6   168    4.0\n"
     ]
    }
   ],
   "source": [
    "print(df.head(7))"
   ]
  },
  {
   "cell_type": "code",
   "execution_count": 6,
   "metadata": {},
   "outputs": [
    {
     "name": "stdout",
     "output_type": "stream",
     "text": [
      "   Roll  Score\n",
      "5   161    3.0\n",
      "6   168    4.0\n",
      "7   178    4.0\n"
     ]
    }
   ],
   "source": [
    "print(df.tail(3))"
   ]
  },
  {
   "cell_type": "code",
   "execution_count": 7,
   "metadata": {},
   "outputs": [
    {
     "name": "stdout",
     "output_type": "stream",
     "text": [
      "<class 'pandas.core.frame.DataFrame'>\n",
      "RangeIndex: 8 entries, 0 to 7\n",
      "Data columns (total 2 columns):\n",
      " #   Column  Non-Null Count  Dtype  \n",
      "---  ------  --------------  -----  \n",
      " 0   Roll    8 non-null      int64  \n",
      " 1   Score   7 non-null      float64\n",
      "dtypes: float64(1), int64(1)\n",
      "memory usage: 260.0 bytes\n",
      "None\n"
     ]
    }
   ],
   "source": [
    "print(df.info())"
   ]
  },
  {
   "cell_type": "code",
   "execution_count": 8,
   "metadata": {},
   "outputs": [
    {
     "name": "stdout",
     "output_type": "stream",
     "text": [
      "             Roll     Score\n",
      "count    8.000000  7.000000\n",
      "mean   115.125000  3.857143\n",
      "std     60.616918  0.690066\n",
      "min     11.000000  3.000000\n",
      "25%     71.500000  3.500000\n",
      "50%    134.500000  4.000000\n",
      "75%    162.750000  4.000000\n",
      "max    178.000000  5.000000\n"
     ]
    }
   ],
   "source": [
    "print(df.describe())"
   ]
  },
  {
   "cell_type": "code",
   "execution_count": 9,
   "metadata": {},
   "outputs": [
    {
     "name": "stdout",
     "output_type": "stream",
     "text": [
      "[[ 11.   4.]\n",
      " [ 58.   5.]\n",
      " [ 76.   3.]\n",
      " [119.   4.]\n",
      " [150.  nan]\n",
      " [161.   3.]\n",
      " [168.   4.]\n",
      " [178.   4.]]\n"
     ]
    }
   ],
   "source": [
    "x = df.iloc[:, 0:2].values\n",
    "print(x)"
   ]
  },
  {
   "cell_type": "code",
   "execution_count": 10,
   "metadata": {},
   "outputs": [
    {
     "name": "stdout",
     "output_type": "stream",
     "text": [
      "   Roll  Score\n",
      "0    11    4.0\n",
      "1    58    5.0\n",
      "2    76    3.0\n",
      "3   119    4.0\n",
      "4   150    NaN\n",
      "5   161    3.0\n",
      "6   168    4.0\n",
      "7   178    4.0\n"
     ]
    }
   ],
   "source": [
    "x = df[[\"Roll\", \"Score\"]]\n",
    "print(x)"
   ]
  },
  {
   "cell_type": "code",
   "execution_count": 11,
   "metadata": {},
   "outputs": [
    {
     "name": "stdout",
     "output_type": "stream",
     "text": [
      "(8, 2)\n",
      "16\n"
     ]
    }
   ],
   "source": [
    "print(df.shape)\n",
    "print(df.size)"
   ]
  },
  {
   "cell_type": "markdown",
   "metadata": {},
   "source": [
    "**Indexing**\n"
   ]
  },
  {
   "cell_type": "code",
   "execution_count": 12,
   "metadata": {},
   "outputs": [
    {
     "name": "stdout",
     "output_type": "stream",
     "text": [
      "   Roll  Score\n",
      "2    11    4.0\n",
      "3    58    5.0\n",
      "4    76    3.0\n",
      "5   119    4.0\n",
      "6   150    NaN\n",
      "7   161    3.0\n",
      "8   168    4.0\n",
      "9   178    4.0\n"
     ]
    }
   ],
   "source": [
    "df.index = [2, 3, 4, 5, 6, 7, 8, 9]\n",
    "print(df)"
   ]
  },
  {
   "cell_type": "code",
   "execution_count": 13,
   "metadata": {},
   "outputs": [
    {
     "name": "stdout",
     "output_type": "stream",
     "text": [
      "Roll     11.0\n",
      "Score     4.0\n",
      "Name: 2, dtype: float64\n",
      "Roll     58.0\n",
      "Score     5.0\n",
      "Name: 3, dtype: float64\n"
     ]
    }
   ],
   "source": [
    "print(df.loc[2])  # user def index\n",
    "print(df.iloc[1])  # positional"
   ]
  },
  {
   "cell_type": "markdown",
   "metadata": {},
   "source": [
    "**Filtering**\n"
   ]
  },
  {
   "cell_type": "code",
   "execution_count": 14,
   "metadata": {},
   "outputs": [
    {
     "name": "stdout",
     "output_type": "stream",
     "text": [
      "   Roll  Score\n",
      "2    11    4.0\n",
      "3    58    5.0\n",
      "5   119    4.0\n",
      "8   168    4.0\n",
      "9   178    4.0\n"
     ]
    }
   ],
   "source": [
    "print(df[df[\"Score\"] > 3])"
   ]
  },
  {
   "cell_type": "code",
   "execution_count": 15,
   "metadata": {},
   "outputs": [],
   "source": [
    "df[\"Percentage\"] = range(len(df))"
   ]
  },
  {
   "cell_type": "code",
   "execution_count": 16,
   "metadata": {},
   "outputs": [],
   "source": [
    "df[\"Percentage\"] = df[\"Score\"] * 100 / 20"
   ]
  },
  {
   "cell_type": "code",
   "execution_count": 17,
   "metadata": {},
   "outputs": [
    {
     "name": "stdout",
     "output_type": "stream",
     "text": [
      "   Roll  Score  Percentage\n",
      "2    11    4.0        20.0\n",
      "3    58    5.0        25.0\n",
      "4    76    3.0        15.0\n",
      "5   119    4.0        20.0\n",
      "6   150    NaN         NaN\n",
      "7   161    3.0        15.0\n",
      "8   168    4.0        20.0\n",
      "9   178    4.0        20.0\n"
     ]
    }
   ],
   "source": [
    "print(df)"
   ]
  },
  {
   "cell_type": "code",
   "execution_count": 18,
   "metadata": {},
   "outputs": [
    {
     "data": {
      "text/html": [
       "<div>\n",
       "<style scoped>\n",
       "    .dataframe tbody tr th:only-of-type {\n",
       "        vertical-align: middle;\n",
       "    }\n",
       "\n",
       "    .dataframe tbody tr th {\n",
       "        vertical-align: top;\n",
       "    }\n",
       "\n",
       "    .dataframe thead th {\n",
       "        text-align: right;\n",
       "    }\n",
       "</style>\n",
       "<table border=\"1\" class=\"dataframe\">\n",
       "  <thead>\n",
       "    <tr style=\"text-align: right;\">\n",
       "      <th></th>\n",
       "      <th>Roll</th>\n",
       "      <th>Score</th>\n",
       "    </tr>\n",
       "  </thead>\n",
       "  <tbody>\n",
       "    <tr>\n",
       "      <th>2</th>\n",
       "      <td>11</td>\n",
       "      <td>4.0</td>\n",
       "    </tr>\n",
       "    <tr>\n",
       "      <th>3</th>\n",
       "      <td>58</td>\n",
       "      <td>5.0</td>\n",
       "    </tr>\n",
       "    <tr>\n",
       "      <th>4</th>\n",
       "      <td>76</td>\n",
       "      <td>3.0</td>\n",
       "    </tr>\n",
       "    <tr>\n",
       "      <th>5</th>\n",
       "      <td>119</td>\n",
       "      <td>4.0</td>\n",
       "    </tr>\n",
       "    <tr>\n",
       "      <th>6</th>\n",
       "      <td>150</td>\n",
       "      <td>NaN</td>\n",
       "    </tr>\n",
       "    <tr>\n",
       "      <th>7</th>\n",
       "      <td>161</td>\n",
       "      <td>3.0</td>\n",
       "    </tr>\n",
       "    <tr>\n",
       "      <th>8</th>\n",
       "      <td>168</td>\n",
       "      <td>4.0</td>\n",
       "    </tr>\n",
       "    <tr>\n",
       "      <th>9</th>\n",
       "      <td>178</td>\n",
       "      <td>4.0</td>\n",
       "    </tr>\n",
       "  </tbody>\n",
       "</table>\n",
       "</div>"
      ],
      "text/plain": [
       "   Roll  Score\n",
       "2    11    4.0\n",
       "3    58    5.0\n",
       "4    76    3.0\n",
       "5   119    4.0\n",
       "6   150    NaN\n",
       "7   161    3.0\n",
       "8   168    4.0\n",
       "9   178    4.0"
      ]
     },
     "execution_count": 18,
     "metadata": {},
     "output_type": "execute_result"
    }
   ],
   "source": [
    "df.drop(columns=[\"Percentage\"])"
   ]
  },
  {
   "cell_type": "code",
   "execution_count": 19,
   "metadata": {},
   "outputs": [],
   "source": [
    "del df[\"Percentage\"]"
   ]
  },
  {
   "cell_type": "code",
   "execution_count": 20,
   "metadata": {},
   "outputs": [
    {
     "name": "stdout",
     "output_type": "stream",
     "text": [
      "   Roll  Score\n",
      "2    11    4.0\n",
      "3    58    5.0\n",
      "4    76    3.0\n",
      "5   119    4.0\n",
      "6   150    NaN\n",
      "7   161    3.0\n",
      "8   168    4.0\n",
      "9   178    4.0\n"
     ]
    }
   ],
   "source": [
    "print(df)"
   ]
  },
  {
   "cell_type": "code",
   "execution_count": 21,
   "metadata": {},
   "outputs": [
    {
     "name": "stdout",
     "output_type": "stream",
     "text": [
      "   Roll  Score  Percentage\n",
      "2    11    4.0        20.0\n",
      "3    58    5.0        25.0\n",
      "4    76    3.0        15.0\n",
      "5   119    4.0        20.0\n",
      "6   150    NaN         NaN\n",
      "7   161    3.0        15.0\n",
      "8   168    4.0        20.0\n",
      "9   178    4.0        20.0\n"
     ]
    }
   ],
   "source": [
    "df.insert(2, \"Percentage\", df[\"Score\"] * 100 / 20)\n",
    "print(df)"
   ]
  },
  {
   "cell_type": "code",
   "execution_count": 22,
   "metadata": {},
   "outputs": [
    {
     "name": "stdout",
     "output_type": "stream",
     "text": [
      "   Roll  Score  Percentage\n",
      "2    11    4.0        20.0\n",
      "3    58    5.0        25.0\n",
      "4    76    3.0        15.0\n",
      "5   119    4.0        20.0\n",
      "6   150    0.0         0.0\n",
      "7   161    3.0        15.0\n",
      "8   168    4.0        20.0\n",
      "9   178    4.0        20.0\n",
      "   Roll  Score  Percentage\n",
      "2    11    4.0        20.0\n",
      "3    58    5.0        25.0\n",
      "4    76    3.0        15.0\n",
      "5   119    4.0        20.0\n",
      "6   150    4.0        20.0\n",
      "7   161    3.0        15.0\n",
      "8   168    4.0        20.0\n",
      "9   178    4.0        20.0\n",
      "   Roll  Score  Percentage\n",
      "2    11    4.0        20.0\n",
      "3    58    5.0        25.0\n",
      "4    76    3.0        15.0\n",
      "5   119    4.0        20.0\n",
      "6   150    3.0        15.0\n",
      "7   161    3.0        15.0\n",
      "8   168    4.0        20.0\n",
      "9   178    4.0        20.0\n"
     ]
    },
    {
     "name": "stderr",
     "output_type": "stream",
     "text": [
      "C:\\Users\\KIIT\\AppData\\Local\\Temp\\ipykernel_22020\\2057408508.py:5: FutureWarning: DataFrame.fillna with 'method' is deprecated and will raise in a future version. Use obj.ffill() or obj.bfill() instead.\n",
      "  fill_pad = df.fillna(method=\"pad\") #adds prev value\n",
      "C:\\Users\\KIIT\\AppData\\Local\\Temp\\ipykernel_22020\\2057408508.py:7: FutureWarning: DataFrame.fillna with 'method' is deprecated and will raise in a future version. Use obj.ffill() or obj.bfill() instead.\n",
      "  fill_bfill = df.fillna(method=\"bfill\") # adds below value\n"
     ]
    }
   ],
   "source": [
    "# print(df.isnull())\n",
    "# print(df.notnull())\n",
    "fill_0 =  df.fillna(0)\n",
    "print(fill_0)\n",
    "fill_pad = df.fillna(method=\"pad\") #adds prev value\n",
    "print(fill_pad)\n",
    "fill_bfill = df.fillna(method=\"bfill\") # adds below value\n",
    "print(fill_bfill)"
   ]
  }
 ],
 "metadata": {
  "kernelspec": {
   "display_name": "Python 3",
   "language": "python",
   "name": "python3"
  },
  "language_info": {
   "codemirror_mode": {
    "name": "ipython",
    "version": 3
   },
   "file_extension": ".py",
   "mimetype": "text/x-python",
   "name": "python",
   "nbconvert_exporter": "python",
   "pygments_lexer": "ipython3",
   "version": "3.11.4"
  }
 },
 "nbformat": 4,
 "nbformat_minor": 2
}
